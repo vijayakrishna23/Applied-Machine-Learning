{
 "cells": [
  {
   "cell_type": "markdown",
   "metadata": {
    "colab_type": "text",
    "id": "P9jhkSLIJKOl"
   },
   "source": [
    "<center>\n",
    "  <h1> CSCI-P556 Applied Machine Learning</h1>\n",
    "  <h1> CSCI-P556</h1>\n",
    "  <h1> Assignment 0 </h1>\n",
    "</center>\n",
    "---\n",
    "\n",
    "\n",
    "\n"
   ]
  },
  {
   "cell_type": "markdown",
   "metadata": {
    "colab_type": "text",
    "id": "JYtDB9S1J0Wt"
   },
   "source": [
    "## Instructions\n",
    "1. Please read the questions carefully and give your responses in the correct place.\n",
    "2. Do not change the contents of the notebook except when adding your reponses or where it is explicitly mentioned.\n",
    "3. Whenever you are asked to write a function and the argument names are mentioned in the question, you have to assume that while testing these arguments will be defined elsewhere in the notebook. \n",
    "3. You are allowed to define test arguments of the same name in the respective code block in order to test your functions.\n",
    "4. If you have been asked to print or plot something, you are supposed to print/plot it and not just provide a function. This is grad school, we expect the plots to be labeled.\n",
    "5. You should save your notebook along with the outputs and submit it\n",
    "\n"
   ]
  },
  {
   "cell_type": "code",
   "execution_count": 2,
   "metadata": {
    "colab": {},
    "colab_type": "code",
    "id": "UNM9lalxKEHe"
   },
   "outputs": [],
   "source": [
    "# For this assignment you'll need to import the following libraries:\n",
    "import numpy as np\n",
    "import pandas as pd\n",
    "import matplotlib.pyplot as plt"
   ]
  },
  {
   "cell_type": "markdown",
   "metadata": {
    "colab_type": "text",
    "id": "zTxEzCY4KOHu"
   },
   "source": [
    "## Question 1 (5 points)\n",
    "\n",
    "Consider a 4x4 numpy array as shown\n",
    "$$\\begin{bmatrix}1 & 2 & 3 & 4\\\\5 & 6 & 7 & 8\\\\9 & 10 & 11 & 12\\\\13 & 14 & 15 & 16\\end{bmatrix}$$\n",
    "\n",
    "1. Create the above matrix with one line of code and name it $a$. Print the matrix.\n",
    "2. Write code to select its principal diagonal (the sequence: 1, 6, 11, 16) in another line. Store this diagonal in $d$. Print $d$\n",
    "3. Write code to select 4 elements in the center of the array (in this case: 6, 7, 10, 11) and store it in $c$. Print $c$.\n",
    "4. Replace the diagonal elements by their squares and print the new $a$.\n",
    "\n",
    "#### Restrictions: \n",
    "To make the problem interesting, you are **NOT** allowed to:\n",
    "- Use the predefined functions or methods, such as the diagonal() method that is available in numpy"
   ]
  },
  {
   "cell_type": "code",
   "execution_count": 3,
   "metadata": {
    "colab": {},
    "colab_type": "code",
    "id": "SmNPL0dEKJ3e"
   },
   "outputs": [
    {
     "name": "stdout",
     "output_type": "stream",
     "text": [
      "Question 1 (Part 1)\n",
      "[[ 1  2  3  4]\n",
      " [ 5  6  7  8]\n",
      " [ 9 10 11 12]\n",
      " [13 14 15 16]]\n",
      "....................................................................................................\n",
      "Question 1 (Part 2)\n",
      "The diagonal elements of a are: [1, 6, 11, 16]\n",
      "....................................................................................................\n",
      "Question 1 (Part 3)\n",
      "The four elements in the center of the array are: [6, 7, 10, 11]\n",
      "....................................................................................................\n",
      "Question 1 (Part 4)\n",
      "Replacing the diagonal elements by their squares:\n",
      " [[  1   2   3   4]\n",
      " [  5  36   7   8]\n",
      " [  9  10 121  12]\n",
      " [ 13  14  15 256]]\n"
     ]
    }
   ],
   "source": [
    "### YOUR CODE FOR Q1 GOES HERE\n",
    "print(\"Question 1 (Part 1)\")\n",
    "a = np.array([[1,2,3,4],[5,6,7,8],[9,10,11,12],[13,14,15,16]])\n",
    "print(a)\n",
    "print(\".\"*100)\n",
    "\n",
    "print (\"Question 1 (Part 2)\")\n",
    "d = [a[i][i] for i in range(4)] \n",
    "print(\"The diagonal elements of a are:\",d)\n",
    "print(\".\"*100)\n",
    "\n",
    "print(\"Question 1 (Part 3)\")\n",
    "c = []\n",
    "for i in range(1,3):\n",
    "    for j in range(1,3):\n",
    "        c.append(a[i][j])\n",
    "print(\"The four elements in the center of the array are:\",c)\n",
    "print(\".\"*100)\n",
    "\n",
    "print(\"Question 1 (Part 4)\")\n",
    "for i in range(4):\n",
    "    a[i][i] = a[i][i]**2\n",
    "print(\"Replacing the diagonal elements by their squares:\\n\", a)\n"
   ]
  },
  {
   "cell_type": "markdown",
   "metadata": {
    "colab_type": "text",
    "id": "gh3V-1mRQeBm"
   },
   "source": [
    "## Question 2 (3 points)\n",
    "\n",
    "Let us make the above question a bit more interesting. The previous problem was easy in the sense that you could hardcode some values and it would work for all 4*4 matrices. What if you didn't know the size of the array $a$. Let us assume it is $n \\times n$.\n",
    "1. Write code that accepts a matrix $a$ as input.\n",
    "2. Write code to print the diagonal elements of $a$.\n",
    "3. For any $k$, write code to print the elements which lie in the center $k \\times k$ region of the $a$.\n",
    "4. Be sure to validate that the input and parameters are correct. See the Examples subsection below to see... examples!\n",
    "\n",
    "#### Note:\n",
    "- Same restrictions apply as above\n",
    "- You should assume that only the matrix $a$ and the integer $k$ have been defined elsewhere in the notebook are available to you. Your code will be tested on a number of test cases and should pass them all successfully\n",
    "\n",
    "\n",
    "#### Examples:\n",
    "- If we had a matrix such as the one below, with n=3, k=1, the output should be \"1\" or \"[1]\". If the user had set the parameter k=2, then an error should be raised because there isn't a 2*2 submatrix that falls directly in the middle of the original matrix.\n",
    "\n",
    "$$\\begin{bmatrix}2 & 2 & 2 \\\\2 & 1 & 2 \\\\2 & 2 & 2 \\end{bmatrix}$$\n",
    "\n",
    "- In the case of n=4, k=2, the output should be \"[[1, 1], [1, 1]]\", or an equivalent representation of those values, such as \"1 1 1 1\" or [1,1,1,1], etc. See that similar to above, setting the parameter k=1 here doesn't make sense.\n",
    "\n",
    "$$\\begin{bmatrix}2 & 2 & 2 & 2\\\\2 & 1 & 1 & 2\\\\2 & 1 & 1 & 2\\\\2 & 2 & 2 & 2\\end{bmatrix}$$\n",
    "\n",
    "- n=5. Here k can be 1 or 3. If k=1, then it returns [1]. If k=3, then it returns [[2,2,2], [2,1,2],[2,2,2]].\n",
    "\n",
    "$$\\begin{bmatrix}3 & 3 & 3 & 3 & 3\\\\3 & 2 & 2 & 2 & 3\\\\3 & 2 & 1 & 2 & 3\\\\3 & 2 & 2 & 2 & 3 \\\\ 3 & 3 & 3 & 3 & 3 \\end{bmatrix}$$"
   ]
  },
  {
   "cell_type": "code",
   "execution_count": 4,
   "metadata": {
    "colab": {},
    "colab_type": "code",
    "id": "4d2P-o5mKZG2"
   },
   "outputs": [
    {
     "name": "stdout",
     "output_type": "stream",
     "text": [
      "Question 2 (Part 1)\n",
      "Enter the n value as one number:4\n",
      "Enter the elements seperating them by commas:1,2,3,4,5,6,7,8,9,10,11,12,13,14,15,16\n",
      "[[ 1  2  3  4]\n",
      " [ 5  6  7  8]\n",
      " [ 9 10 11 12]\n",
      " [13 14 15 16]]\n",
      "....................................................................................................\n",
      "Question 2 (Part 2)\n",
      "The diagonal elements are: [1, 6, 11, 16]\n",
      "....................................................................................................\n",
      "Question 2 (Part 3)\n",
      "Enter a k-value:2\n",
      "Elements in the center 2x2 region are: [6, 7, 10, 11]\n"
     ]
    }
   ],
   "source": [
    "### YOUR CODE FOR Q2 GOES HERE\n",
    "print(\"Question 2 (Part 1)\")\n",
    "\n",
    "n = int(input(\"Enter the n value as one number:\"))\n",
    "\n",
    "elements = [int(x) for x in input(\"Enter the elements seperating them by commas:\").split(',')]\n",
    "\n",
    "if (n**2) != len(elements):\n",
    "    print(\"For a %sx%s matrix enter %s elements.\" %(n,n,n**2))\n",
    "\n",
    "elif (n**2) == len(elements):\n",
    "    i = 0\n",
    "    a = []\n",
    "    a.append([elements[i:i+n] for i in range(0,len(elements),n)])\n",
    "    a = np.array(a[0])\n",
    "    print(a)\n",
    "\n",
    "    \n",
    "    print(\".\"*100)\n",
    "    print(\"Question 2 (Part 2)\")\n",
    "    d = [a[i][i] for i in range(len(a))]\n",
    "    print(\"The diagonal elements are:\",d)\n",
    "\n",
    "\n",
    "    print(\".\"*100)\n",
    "    print(\"Question 2 (Part 3)\")\n",
    "\n",
    "    k = int(input(\"Enter a k-value:\"))\n",
    "    c = []\n",
    "    if k>len(a):\n",
    "        print(\"Enter a k-value less than n\")\n",
    "    elif k % 2 == 0 and len(a) % 2 == 0:\n",
    "        for i in range(int((len(a)-k)/2),int(((len(a)-k)/2)+k)):\n",
    "            for j in range(int((len(a)-k)/2),int(((len(a)-k)/2)+k)):\n",
    "                c.append(a[i][j])\n",
    "        print(\"Elements in the center %sx%s region are:\" %(k,k),c)\n",
    "    elif k % 2 != 0 and len(a) % 2 != 0:\n",
    "        for i in range(int((len(a)-k)/2),int(((len(a)-k)/2)+k)):\n",
    "            for j in range(int((len(a)-k)/2),int(((len(a)-k)/2)+k)):\n",
    "                c.append(a[i][j])\n",
    "        print(c)\n",
    "\n",
    "    else:\n",
    "        print (\"Enter a valid k-value.\")\n",
    "else:\n",
    "    print(\"Please enter n-value and the elements appropriately.\")\n",
    "\n"
   ]
  },
  {
   "cell_type": "markdown",
   "metadata": {
    "colab_type": "text",
    "id": "1vUKeUCMUl08"
   },
   "source": [
    "## Question 3 (6 points)\n",
    "\n",
    "In this question, we will look at the speedup that vectorization brings to the table. The dot product of two vectors $\\overline{a}=[a_1, a_2, \\ldots, a_n]$ and $\\overline{b}=[b_1, b_2, \\ldots, b_n]$  is defined as:\n",
    "$$ \\overline{a} \\cdot \\overline{b} = \\sum_{i=1}^n a_i b_i$$\n",
    "\n",
    "1. Write a function to calculate the dot product of two lists using `for` loops.\n",
    "2. Use numpy's functionality to do the same.\n",
    "3. Find out computation times for arrays of sizes (10,000, 20,0000, ..., 100,000) and plot the two sets of times in a line plot."
   ]
  },
  {
   "cell_type": "code",
   "execution_count": 5,
   "metadata": {
    "colab": {},
    "colab_type": "code",
    "id": "gyFm-preaCoM"
   },
   "outputs": [
    {
     "name": "stdout",
     "output_type": "stream",
     "text": [
      "Question 3\n",
      "\n",
      "Time taken to calculate the dot product using for loop: [0.004512319254521135, 0.012132602711387877, 0.011224614531101976, 0.016324745939617902, 0.022273273294451456, 0.02663784612274354, 0.025900406919751484, 0.02775540620276405, 0.0301874040588541, 0.03427164655575695]\n",
      "....................................................................................................\n",
      "Time taken to calculate the dot product using numpy's multiply function: [7.216889873081465e-05, 2.1979778603684514e-05, 2.86794972154993e-05, 4.0433389516943606e-05, 0.00010919365948032962, 0.00014363256392354215, 0.00010637272532800408, 9.39135994884784e-05, 0.00021098236681075613, 0.00024965267248248474]\n",
      "....................................................................................................\n",
      "Plotting the two sets of time for functionality comparision\n"
     ]
    },
    {
     "data": {
      "image/png": "[encoded data removed]",
      "text/plain": [
       "<Figure size 432x288 with 1 Axes>"
      ]
     },
     "metadata": {},
     "output_type": "display_data"
    }
   ],
   "source": [
    "## Boilerplate code for Question 3\n",
    "import timeit\n",
    "import matplotlib.pyplot as plt\n",
    "gen = np.random.RandomState(seed=42)\n",
    "\n",
    "print(\"Question 3\\n\")\n",
    "def time_function(f, *args):\n",
    "  \"\"\"\n",
    "  This is a simple utility function to measure the runtime \n",
    "  of a python function. It will return the result of the function\n",
    "  execution and the time taken to run that function. Any arguments \n",
    "  required by the function to run should be passed after the function name.\n",
    "  INPUT: function name, arg1, arg2, ...\n",
    "  OUTPUT: Output of the passed function, time taken to run it\n",
    "  \"\"\"   \n",
    "  start = timeit.default_timer()\n",
    "  ret = f(*args)\n",
    "  f(*args)\n",
    "  f(*args)\n",
    "  stop = timeit.default_timer()\n",
    "  return ret, (stop-start)/3\n",
    "\n",
    "def random_int_array(array_size):\n",
    "  # The low and high arguments below are used to specify the range of random\n",
    "  # values that will be used to generate the random integers.\n",
    "  return np.random.randint(low=0, high=1000000, size=array_size)\n",
    "\n",
    "def calculate_dot_product(a, b):\n",
    "  #\"\"\"\n",
    "  #  INPUT: a and b are lists\n",
    "  #  OUTPUT: dot product\n",
    "  #  Complete this function\n",
    "  #\"\"\"\n",
    "    product_for = []\n",
    "    [product_for.append(a[i]*b[i]) for i in range(len(a))]\n",
    "    return product_for\n",
    "\n",
    "#def calculate_numpy_product(a, b):\n",
    "#    return np.multiply(a,b)\n",
    "\n",
    "sizes = (10000 * i for i in range(1, 11))\n",
    "dp1time = []\n",
    "dp2time = []\n",
    "for size in sizes:\n",
    "  a = gen.rand(size)\n",
    "  b = gen.rand(size)\n",
    "  dp1, dp1_time = time_function(calculate_dot_product,a,b) # Modify these two lines to calculate output and runtime using \n",
    "  dp2, dp2_time = time_function(np.multiply,a,b) # the above utility function\n",
    "  dp1time.append(dp1_time)\n",
    "  dp2time.append(dp2_time)\n",
    "    \n",
    "print(\"Time taken to calculate the dot product using for loop:\",dp1time)\n",
    "print(\".\"*100)\n",
    "print(\"Time taken to calculate the dot product using numpy's multiply function:\",dp2time)\n",
    "print(\".\"*100)\n",
    "#assert(dp1 == dp2)\n",
    "  ### Write code to store the time spent executing them\n",
    "  \n",
    "# Write code to plot the time values\n",
    "print(\"Plotting the two sets of time for functionality comparision\")\n",
    "plt.plot(range(10),dp1time, label = \"Using for loop\")\n",
    "plt.plot(range(10),dp2time, label = \"Using Matrix multiplication\")\n",
    "plt.legend(loc = 'upper left')\n",
    "plt.suptitle(\"Computational time comparision\", fontsize = 16)\n",
    "plt.xlabel(\"Array size (in ten thousand)\", fontsize = 12)\n",
    "plt.ylabel(\"Time taken (in secs)\", fontsize = 12)\n",
    "plt.show()"
   ]
  },
  {
   "cell_type": "markdown",
   "metadata": {
    "colab_type": "text",
    "id": "xBdVl9BY3AdU"
   },
   "source": [
    "## Question 4 (4 points)\n",
    "\n",
    "We have provided code which loads an interesting dataset about breast cancer in a pandas dataframe variable called `data`. We also provide 5 samples of the dataset.\n",
    "The breast cancer dataset is loaded into a dataframe called \"data\" and the \"labels\" are stored as a dataframe as well.  \n",
    "\n",
    "Please bear in mind that you cannot actually look at the entire dataset in the notebook since it has many columns. If you want to look at the entire dataframe/dataset, use data.to_csv() to write the data frame to a csv file. For the questions given, you don't actually need to look at the entire dataset. A sample of the data shown in the next block is enough.\n",
    "\n",
    "Write code to:\n",
    "\n",
    "1.  Get the total number of samples whose \"mean perimeter\" is greater than 130.\n",
    "2.  Group the \"worst area\" column based on the \"labels\" and get the maximum \"worst area\" for each group. In this case, there will be 2 groups since we have only 2 labels.\n",
    "3.  Get the column which has the minimum sum and subtract each value of that column by its mean. i.e., (column value - mean of the column)\n",
    "\n",
    "Information about the dataset columns can be found at: http://scikit-learn.org/stable/modules/generated/sklearn.datasets.load_breast_cancer.html"
   ]
  },
  {
   "cell_type": "code",
   "execution_count": 6,
   "metadata": {
    "colab": {
     "base_uri": "https://localhost:8080/",
     "height": 267
    },
    "colab_type": "code",
    "id": "_ceJP6tPcWu_",
    "outputId": "6069e1c8-efc7-46aa-d106-24d0be25207b"
   },
   "outputs": [
    {
     "data": {
      "text/html": [
       "<div>\n",
       "<style scoped>\n",
       "    .dataframe tbody tr th:only-of-type {\n",
       "        vertical-align: middle;\n",
       "    }\n",
       "\n",
       "    .dataframe tbody tr th {\n",
       "        vertical-align: top;\n",
       "    }\n",
       "\n",
       "    .dataframe thead th {\n",
       "        text-align: right;\n",
       "    }\n",
       "</style>\n",
       "<table border=\"1\" class=\"dataframe\">\n",
       "  <thead>\n",
       "    <tr style=\"text-align: right;\">\n",
       "      <th></th>\n",
       "      <th>mean radius</th>\n",
       "      <th>mean texture</th>\n",
       "      <th>mean perimeter</th>\n",
       "      <th>mean area</th>\n",
       "      <th>mean smoothness</th>\n",
       "      <th>mean compactness</th>\n",
       "      <th>mean concavity</th>\n",
       "      <th>mean concave points</th>\n",
       "      <th>mean symmetry</th>\n",
       "      <th>mean fractal dimension</th>\n",
       "      <th>...</th>\n",
       "      <th>worst radius</th>\n",
       "      <th>worst texture</th>\n",
       "      <th>worst perimeter</th>\n",
       "      <th>worst area</th>\n",
       "      <th>worst smoothness</th>\n",
       "      <th>worst compactness</th>\n",
       "      <th>worst concavity</th>\n",
       "      <th>worst concave points</th>\n",
       "      <th>worst symmetry</th>\n",
       "      <th>worst fractal dimension</th>\n",
       "    </tr>\n",
       "  </thead>\n",
       "  <tbody>\n",
       "    <tr>\n",
       "      <th>0</th>\n",
       "      <td>17.99</td>\n",
       "      <td>10.38</td>\n",
       "      <td>122.80</td>\n",
       "      <td>1001.0</td>\n",
       "      <td>0.11840</td>\n",
       "      <td>0.27760</td>\n",
       "      <td>0.3001</td>\n",
       "      <td>0.14710</td>\n",
       "      <td>0.2419</td>\n",
       "      <td>0.07871</td>\n",
       "      <td>...</td>\n",
       "      <td>25.38</td>\n",
       "      <td>17.33</td>\n",
       "      <td>184.60</td>\n",
       "      <td>2019.0</td>\n",
       "      <td>0.1622</td>\n",
       "      <td>0.6656</td>\n",
       "      <td>0.7119</td>\n",
       "      <td>0.2654</td>\n",
       "      <td>0.4601</td>\n",
       "      <td>0.11890</td>\n",
       "    </tr>\n",
       "    <tr>\n",
       "      <th>1</th>\n",
       "      <td>20.57</td>\n",
       "      <td>17.77</td>\n",
       "      <td>132.90</td>\n",
       "      <td>1326.0</td>\n",
       "      <td>0.08474</td>\n",
       "      <td>0.07864</td>\n",
       "      <td>0.0869</td>\n",
       "      <td>0.07017</td>\n",
       "      <td>0.1812</td>\n",
       "      <td>0.05667</td>\n",
       "      <td>...</td>\n",
       "      <td>24.99</td>\n",
       "      <td>23.41</td>\n",
       "      <td>158.80</td>\n",
       "      <td>1956.0</td>\n",
       "      <td>0.1238</td>\n",
       "      <td>0.1866</td>\n",
       "      <td>0.2416</td>\n",
       "      <td>0.1860</td>\n",
       "      <td>0.2750</td>\n",
       "      <td>0.08902</td>\n",
       "    </tr>\n",
       "    <tr>\n",
       "      <th>2</th>\n",
       "      <td>19.69</td>\n",
       "      <td>21.25</td>\n",
       "      <td>130.00</td>\n",
       "      <td>1203.0</td>\n",
       "      <td>0.10960</td>\n",
       "      <td>0.15990</td>\n",
       "      <td>0.1974</td>\n",
       "      <td>0.12790</td>\n",
       "      <td>0.2069</td>\n",
       "      <td>0.05999</td>\n",
       "      <td>...</td>\n",
       "      <td>23.57</td>\n",
       "      <td>25.53</td>\n",
       "      <td>152.50</td>\n",
       "      <td>1709.0</td>\n",
       "      <td>0.1444</td>\n",
       "      <td>0.4245</td>\n",
       "      <td>0.4504</td>\n",
       "      <td>0.2430</td>\n",
       "      <td>0.3613</td>\n",
       "      <td>0.08758</td>\n",
       "    </tr>\n",
       "    <tr>\n",
       "      <th>3</th>\n",
       "      <td>11.42</td>\n",
       "      <td>20.38</td>\n",
       "      <td>77.58</td>\n",
       "      <td>386.1</td>\n",
       "      <td>0.14250</td>\n",
       "      <td>0.28390</td>\n",
       "      <td>0.2414</td>\n",
       "      <td>0.10520</td>\n",
       "      <td>0.2597</td>\n",
       "      <td>0.09744</td>\n",
       "      <td>...</td>\n",
       "      <td>14.91</td>\n",
       "      <td>26.50</td>\n",
       "      <td>98.87</td>\n",
       "      <td>567.7</td>\n",
       "      <td>0.2098</td>\n",
       "      <td>0.8663</td>\n",
       "      <td>0.6869</td>\n",
       "      <td>0.2575</td>\n",
       "      <td>0.6638</td>\n",
       "      <td>0.17300</td>\n",
       "    </tr>\n",
       "    <tr>\n",
       "      <th>4</th>\n",
       "      <td>20.29</td>\n",
       "      <td>14.34</td>\n",
       "      <td>135.10</td>\n",
       "      <td>1297.0</td>\n",
       "      <td>0.10030</td>\n",
       "      <td>0.13280</td>\n",
       "      <td>0.1980</td>\n",
       "      <td>0.10430</td>\n",
       "      <td>0.1809</td>\n",
       "      <td>0.05883</td>\n",
       "      <td>...</td>\n",
       "      <td>22.54</td>\n",
       "      <td>16.67</td>\n",
       "      <td>152.20</td>\n",
       "      <td>1575.0</td>\n",
       "      <td>0.1374</td>\n",
       "      <td>0.2050</td>\n",
       "      <td>0.4000</td>\n",
       "      <td>0.1625</td>\n",
       "      <td>0.2364</td>\n",
       "      <td>0.07678</td>\n",
       "    </tr>\n",
       "  </tbody>\n",
       "</table>\n",
       "<p>5 rows × 30 columns</p>\n",
       "</div>"
      ],
      "text/plain": [
       "   mean radius  mean texture  mean perimeter  mean area  mean smoothness  \\\n",
       "0        17.99         10.38          122.80     1001.0          0.11840   \n",
       "1        20.57         17.77          132.90     1326.0          0.08474   \n",
       "2        19.69         21.25          130.00     1203.0          0.10960   \n",
       "3        11.42         20.38           77.58      386.1          0.14250   \n",
       "4        20.29         14.34          135.10     1297.0          0.10030   \n",
       "\n",
       "   mean compactness  mean concavity  mean concave points  mean symmetry  \\\n",
       "0           0.27760          0.3001              0.14710         0.2419   \n",
       "1           0.07864          0.0869              0.07017         0.1812   \n",
       "2           0.15990          0.1974              0.12790         0.2069   \n",
       "3           0.28390          0.2414              0.10520         0.2597   \n",
       "4           0.13280          0.1980              0.10430         0.1809   \n",
       "\n",
       "   mean fractal dimension           ...             worst radius  \\\n",
       "0                 0.07871           ...                    25.38   \n",
       "1                 0.05667           ...                    24.99   \n",
       "2                 0.05999           ...                    23.57   \n",
       "3                 0.09744           ...                    14.91   \n",
       "4                 0.05883           ...                    22.54   \n",
       "\n",
       "   worst texture  worst perimeter  worst area  worst smoothness  \\\n",
       "0          17.33           184.60      2019.0            0.1622   \n",
       "1          23.41           158.80      1956.0            0.1238   \n",
       "2          25.53           152.50      1709.0            0.1444   \n",
       "3          26.50            98.87       567.7            0.2098   \n",
       "4          16.67           152.20      1575.0            0.1374   \n",
       "\n",
       "   worst compactness  worst concavity  worst concave points  worst symmetry  \\\n",
       "0             0.6656           0.7119                0.2654          0.4601   \n",
       "1             0.1866           0.2416                0.1860          0.2750   \n",
       "2             0.4245           0.4504                0.2430          0.3613   \n",
       "3             0.8663           0.6869                0.2575          0.6638   \n",
       "4             0.2050           0.4000                0.1625          0.2364   \n",
       "\n",
       "   worst fractal dimension  \n",
       "0                  0.11890  \n",
       "1                  0.08902  \n",
       "2                  0.08758  \n",
       "3                  0.17300  \n",
       "4                  0.07678  \n",
       "\n",
       "[5 rows x 30 columns]"
      ]
     },
     "execution_count": 6,
     "metadata": {},
     "output_type": "execute_result"
    }
   ],
   "source": [
    "#Starter code. Do not make changes to this code block.\n",
    "import pandas as pd\n",
    "from sklearn.datasets import load_breast_cancer\n",
    "raw_data = load_breast_cancer()\n",
    "\n",
    "data = pd.DataFrame(raw_data[\"data\"], columns= raw_data[\"feature_names\"])\n",
    "labels = pd.DataFrame(raw_data[\"target\"], columns = [\"target\"])\n",
    "data.head()"
   ]
  },
  {
   "cell_type": "code",
   "execution_count": 7,
   "metadata": {
    "colab": {},
    "colab_type": "code",
    "id": "aI1QgmAx2man"
   },
   "outputs": [
    {
     "name": "stdout",
     "output_type": "stream",
     "text": [
      "The total number of samples whose mean perimeter is greater than 130 is: 51\n"
     ]
    }
   ],
   "source": [
    "# Code for Question 4.1\n",
    "print(\"The total number of samples whose mean perimeter is greater than 130 is:\",len(data[data['mean perimeter']>130]))"
   ]
  },
  {
   "cell_type": "code",
   "execution_count": 8,
   "metadata": {
    "colab": {},
    "colab_type": "code",
    "id": "lWAS-epe4DnR"
   },
   "outputs": [
    {
     "name": "stdout",
     "output_type": "stream",
     "text": [
      "The maximum worst area for target group with value 1 is: 1210.0\n",
      "The maximum worst area for target group with value 0 is: 4254.0\n"
     ]
    }
   ],
   "source": [
    "# Code for Question 4.2\n",
    "data['target'] = labels['target']\n",
    "target_1 = data.loc[data['target'] == 1]\n",
    "target_0 = data.loc[data['target'] == 0]\n",
    "print('The maximum worst area for target group with value 1 is:', target_1['worst area'].max())\n",
    "print('The maximum worst area for target group with value 0 is:', target_0['worst area'].max())"
   ]
  },
  {
   "cell_type": "code",
   "execution_count": 9,
   "metadata": {
    "colab": {},
    "colab_type": "code",
    "id": "KggURDgi9vVl"
   },
   "outputs": [
    {
     "name": "stdout",
     "output_type": "stream",
     "text": [
      "The column with minimum sum is: fractal dimension error\n",
      "....................................................................................................\n",
      "The mean of the column is: 0.0037949038664323383\n",
      "....................................................................................................\n",
      "Subtracting all elements in the column by the column's mean...\n",
      "0      0.002398\n",
      "1     -0.000263\n",
      "2      0.000776\n",
      "3      0.005413\n",
      "4      0.001320\n",
      "5      0.001287\n",
      "6     -0.001616\n",
      "7      0.001617\n",
      "8     -0.000046\n",
      "9      0.006285\n",
      "10    -0.000753\n",
      "11     0.000349\n",
      "12     0.009045\n",
      "13    -0.000793\n",
      "14     0.004298\n",
      "15     0.001671\n",
      "16    -0.001710\n",
      "17     0.000347\n",
      "18    -0.001798\n",
      "19    -0.001495\n",
      "20    -0.001370\n",
      "21    -0.000827\n",
      "22     0.000599\n",
      "23    -0.001808\n",
      "24    -0.000994\n",
      "25     0.003649\n",
      "26    -0.000084\n",
      "27     0.000422\n",
      "28    -0.000828\n",
      "29    -0.000053\n",
      "         ...   \n",
      "539    0.003756\n",
      "540    0.001717\n",
      "541    0.002316\n",
      "542   -0.001169\n",
      "543   -0.002452\n",
      "544   -0.000196\n",
      "545   -0.001212\n",
      "546   -0.001189\n",
      "547    0.002095\n",
      "548    0.000359\n",
      "549   -0.000818\n",
      "550   -0.001567\n",
      "551    0.000928\n",
      "552   -0.002069\n",
      "553    0.000828\n",
      "554   -0.000994\n",
      "555    0.001143\n",
      "556   -0.001517\n",
      "557   -0.000471\n",
      "558    0.000611\n",
      "559    0.000943\n",
      "560    0.001509\n",
      "561   -0.002022\n",
      "562    0.002347\n",
      "563    0.002418\n",
      "564    0.000444\n",
      "565   -0.001297\n",
      "566    0.000097\n",
      "567    0.002390\n",
      "568   -0.001012\n",
      "Name: fractal dimension error, Length: 569, dtype: float64\n"
     ]
    }
   ],
   "source": [
    "# Code for Question 4.3\n",
    "import operator\n",
    "#sum all values in each column and store in key,value pair in dictionary\n",
    "sum_dict = {}\n",
    "for col in data:\n",
    "    sum_dict[col] = data[col].sum()\n",
    "\n",
    "#find column with minimum sum\n",
    "print(\"The column with minimum sum is:\", min(sum_dict.items(), key = operator.itemgetter(1))[0])\n",
    "print(\".\"*100)\n",
    "\n",
    "#find mean of the column\n",
    "min_sum_mean = data[min(sum_dict.items(), key = operator.itemgetter(1))[0]].mean()\n",
    "print(\"The mean of the column is:\", min_sum_mean)\n",
    "print(\".\"*100)\n",
    "\n",
    "#subtract all rows in the column by it's mean\n",
    "print(\"Subtracting all elements in the column by the column's mean...\")\n",
    "print(data[min(sum_dict.items(), key = operator.itemgetter(1))[0]] - min_sum_mean)\n",
    "\n",
    "    "
   ]
  },
  {
   "cell_type": "markdown",
   "metadata": {
    "colab_type": "text",
    "id": "kiYPu2_sMrrh"
   },
   "source": [
    "## Question 5 (7 points)\n",
    "\n",
    "### Part A\n",
    "\n",
    "Write a function which takes three inputs and produces a plot using matplotlib. The first two inputs are lists. Each list contains a certain number of tuples. Each tuple in turn contains the $x$ and $y$ co-ordinates of a point. The third input is a stand-alone tuple containing the co-efficients $(a, b, c)$ of a line represented by $ax + by + c = 0$.\n",
    "\n",
    "The function should plot the first set of points with a red '+' and the second set of points with a blue 'o'. The function should also plot the line in green color. Give a suitable legend and name the axes. If the final tuple isn't provided, the function should gracefully avoid printing the line instead of throwing an error. Feel feel to modify the function definition accordingly.\n"
   ]
  },
  {
   "cell_type": "code",
   "execution_count": 10,
   "metadata": {
    "colab": {},
    "colab_type": "code",
    "id": "p_QBjYa-MrOq"
   },
   "outputs": [
    {
     "name": "stdout",
     "output_type": "stream",
     "text": [
      "Points and line plot...\n"
     ]
    },
    {
     "data": {
      "image/png": "[encoded data removed]",
      "text/plain": [
       "<Figure size 432x288 with 1 Axes>"
      ]
     },
     "metadata": {},
     "output_type": "display_data"
    }
   ],
   "source": [
    "import matplotlib.pyplot as plt\n",
    "def plotLineAndPoints(l1, l2, coef = None):\n",
    "  ### Your code goes here\n",
    "\n",
    "    if coef == None:\n",
    "        pass\n",
    "    else:\n",
    "        x = [((-coef[1] * l1[0][1])-coef[2])/coef[0],((-coef[1] * l1[1][1])-coef[2])/coef[0],((-coef[1] * l2[0][1])-coef[2])/coef[0],((-coef[1] * l2[1][1])-coef[2])/coef[0]]\n",
    "        y = [((-coef[0] * l1[0][0])-coef[2])/coef[1],((-coef[0] * l1[1][0])-coef[2])/coef[1],((-coef[0] * l2[0][0])-coef[2])/coef[1],((-coef[0] * l2[1][0])-coef[2])/coef[1]]\n",
    "        plt.plot(x,y,'g')#, label = \"Line plotted using ax+by+c=0\")\n",
    "        \n",
    "    for i in range(len(l1)):\n",
    "        plt.plot(l1[i][0],l1[i][1],'r+')#, label = \"l1 set of points\")\n",
    "    \n",
    "    for i in range(len(l2)):\n",
    "        plt.plot(l2[i][0],l2[i][1], 'bo')#, label = \"l2 set of points\")\n",
    "    \n",
    "    #plt.legend(loc = \"upper right\")\n",
    "    plt.xlabel(\"x-axis\", fontsize = 12)\n",
    "    plt.ylabel(\"y-axis\", fontsize = 12)\n",
    "    plt.show()\n",
    "    #x = [((-coef[1]l1[0][0]-coef[2])/coef[0]), ((-coef[1]l1[1][0]-coef[2])/coef[0]), ((-coef[1]l2[0][0]-coef[2])/coef[0])], ((-coef[1]l2[0][1]-coef[2])/coef[0])]\n",
    "    #y = [((-coef[2]l1[0][1]-coef[2])/coef[0]), ((-coef[2]l1[1][1]-coef[2])/coef[0]), ((-coef[2]l2[1][1]-coef[2])/coef[0]), ((-coef[2]l2[1][1]-coef[2])/coef[0])]\n",
    "    \n",
    "## Sample Test Cases (We will have many more)\n",
    "print(\"Points and line plot...\")\n",
    "plotLineAndPoints([(1, 2), (2, 3)], [(3, 4), (4, 5)], (-1, 2, 2))"
   ]
  },
  {
   "cell_type": "markdown",
   "metadata": {
    "colab_type": "text",
    "id": "xI3oSb5LScm7"
   },
   "source": [
    "### Part B"
   ]
  },
  {
   "cell_type": "markdown",
   "metadata": {
    "colab_type": "text",
    "id": "61TPqs_JTL2-"
   },
   "source": [
    "Euclidean distance between two points is defined as by equation (1) on this [Wikipedia page](https://en.wikipedia.org/wiki/Euclidean_distance).\n",
    "\n",
    "This first part is meant to be written using Markdown math in this cell (double-click it to see the area where you'll write the equation):\n",
    "  1. Your first task is to write down the Euclidean distance between two points that is defined as by equation (1) on this [Wikipedia page](https://en.wikipedia.org/wiki/Euclidean_distance). It should contain both lines of equation (1).\n",
    "  \n",
    "  Euclidean Distance using Cartesian coordinates:\n",
    "\\begin{equation*}\n",
    "Euclidean distance = \\sqrt(x_1 - x_2)^2 + (y_1 - y_2)^2\n",
    "\\end{equation*}\n",
    "\n",
    "  Euclidean distance using polar coordinates:\n",
    "\\begin{equation*}\n",
    "Euclidean distance = \\sqrt(rad_1^2 + rad_2^2 + 2 * rad_1 * rad_2 *cos(\\theta_1 - \\theta_2))\n",
    "\\end{equation*}\n",
    "The following parts have to be coded using Python:\n",
    "  2. Given a point $(x_1,y_1)$ and a radius $r_1$, randomly generate 10 points which lie within the given radius of the given point. The radius is calculated using Euclidean distance. Store them in list $l_1$.\n",
    "  3. Generate another list $l_2$ for a new point $(x_2, y_2)$ and radius $r_2$\n",
    "  4. Use the function written in part A to plot the above sets of points."
   ]
  },
  {
   "cell_type": "code",
   "execution_count": 11,
   "metadata": {
    "colab": {},
    "colab_type": "code",
    "id": "5bNLsyriTKQd"
   },
   "outputs": [
    {
     "name": "stdout",
     "output_type": "stream",
     "text": [
      "The Euclidean distance between the two points using cartesian co-ordinates is: 35.355\n",
      "The Euclidean distance between the two points using polar co-ordinates is: 35.355\n",
      "....................................................................................................\n",
      "The generated points which lie within a radius of 10 to the center (0,0) are:\n",
      " [(-7.99171323396466, -0.13651214887940158), (0.0, 0.23618303007469182), (-4.9868660964963, -0.4346030502500921), (1.7713504254093058, -6.863082097329726), (-0.0626194713044462, 0.0), (0.5571360377385595, 3.9937871637923417), (-8.728205266358684, -0.4877984216491319), (1.908230396153161, 9.71135424026925), (8.733387344433451, 1.6911875041600424), (-0.8359079580262078, -6.845443906349839)]\n",
      "....................................................................................................\n",
      "The generated points which lie within a radius of 15 to the center (25,25) are:\n",
      " [(27.56817665761522, 12.359269818289906), (30.93385085694656, 25.148081622341884), (30.568058351187766, 19.82545794486819), (19.08222945773323, 36.2854235164568), (27.987336911518625, 25.091783669013587), (23.76371561972811, 23.177718044612348), (24.965051195664696, 29.999969464433647), (17.165916589104963, 26.82345013814075), (21.320022396047907, 27.855452731556014), (23.14825809386419, 22.35512080899876)]\n",
      "....................................................................................................\n"
     ]
    },
    {
     "data": {
      "image/png": "[encoded data removed]",
      "text/plain": [
       "<Figure size 432x288 with 1 Axes>"
      ]
     },
     "metadata": {},
     "output_type": "display_data"
    }
   ],
   "source": [
    "from math import sqrt, cos, sin, atan\n",
    "import random\n",
    "from random import randint\n",
    "x1, y1 = 0, 0\n",
    "r1 = 10\n",
    "x2, y2 = 25, 25\n",
    "r2 = 15\n",
    "## YOUR CODE GOES HERE\n",
    "euc_dist_1 = sqrt((x1 - x2)**2 + (y1 - y2)**2)\n",
    "print(\"The Euclidean distance between the two points using cartesian co-ordinates is:\", round(euc_dist_1, 3))\n",
    "\n",
    "rad_1 = sqrt(x1**2 + y1**2)\n",
    "if y1 == 0 or x1 == 0:\n",
    "    theta_1 = 0\n",
    "else:\n",
    "    theta_1 = atan(y1/x1)\n",
    "rad_2 = sqrt(x2**2 + y2**2)\n",
    "if y2 == 0 or x2 == 0:\n",
    "    theta_2 = 0\n",
    "else:\n",
    "    theta_2 = atan(y2/x2)\n",
    "    \n",
    "#rad_1, theta_1 = sqrt(x1**2 + y1**2), atan(y1/x1)\n",
    "#rad_2, theta_2 = sqrt(x2**2 + y2**2), atan(y2/x2)\n",
    "euc_dist_2 = sqrt(rad_1**2 + rad_2**2 + 2*rad_1*rad_2*cos(theta_1 - theta_2))\n",
    "print(\"The Euclidean distance between the two points using polar co-ordinates is:\", round(euc_dist_2,3))\n",
    "print(\".\"*100)\n",
    "\n",
    "l_1 = []\n",
    "for i in range(10):\n",
    "    theta = random.random() * 2 * 3.14\n",
    "    x = x1 + randint(0,r1) * cos(theta)\n",
    "    y = y1 + randint(0,r1) * sin(theta)\n",
    "    l_1.append(tuple((x,y)))\n",
    "    \n",
    "print(\"The generated points which lie within a radius of 10 to the center (0,0) are:\\n\",l_1)\n",
    "print(\".\"*100)\n",
    "    \n",
    "l_2 = []\n",
    "for i in range(10):\n",
    "    \n",
    "    theta = random.random() * 2 * 3.14\n",
    "    x = x2 + randint(0,r2) * cos(theta)\n",
    "    y = y2 + randint(0,r2) * sin(theta)\n",
    "    l_2.append(tuple((x,y)))\n",
    "\n",
    "print(\"The generated points which lie within a radius of 15 to the center (25,25) are:\\n\",l_2)\n",
    "print(\".\"*100)\n",
    "\n",
    "plotLineAndPoints(l_1, l_2)\n"
   ]
  },
  {
   "cell_type": "code",
   "execution_count": null,
   "metadata": {
    "colab": {},
    "colab_type": "code",
    "id": "Fb6XnZM4ulEN"
   },
   "outputs": [],
   "source": []
  }
 ],
 "metadata": {
  "colab": {
   "collapsed_sections": [],
   "name": "P556-Assignment0-S19.ipynb",
   "provenance": [],
   "version": "0.3.2"
  },
  "kernelspec": {
   "display_name": "Python 3",
   "language": "python",
   "name": "python3"
  },
  "language_info": {
   "codemirror_mode": {
    "name": "ipython",
    "version": 3
   },
   "file_extension": ".py",
   "mimetype": "text/x-python",
   "name": "python",
   "nbconvert_exporter": "python",
   "pygments_lexer": "ipython3",
   "version": "3.6.5"
  }
 },
 "nbformat": 4,
 "nbformat_minor": 1
}
